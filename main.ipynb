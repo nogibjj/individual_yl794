{
 "cells": [
  {
   "cell_type": "code",
   "execution_count": null,
   "metadata": {},
   "outputs": [],
   "source": [
    "import polars as pl\n",
    "import matplotlib.pyplot as plt\n",
    "from lib import mean, median, std\n",
    "\n",
    "## Create report of output\n",
    "def output(data):\n",
    "    result = {\n",
    "        \"mean\": (mean(data)),\n",
    "        \"median\": (median(data)),\n",
    "        \"std_dev\": (std(data)),\n",
    "    }\n",
    "        \n",
    "    for key, value in result.items():\n",
    "        print(\"%s:%s\" % (key, value))\n",
    "\n",
    "def visualization(data):\n",
    "    plt.hist(data[::,2].to_numpy(), color=\"k\", edgecolor=\"b\")\n",
    "    plt.plot([mean(data),mean(data)],[0,10])\n",
    "    plt.legend(\"mean\")\n",
    "    plt.xlabel(\"grades\")\n",
    "    plt.ylabel(\"Frequency\")\n",
    "    plt.savefig(\"grades_distribution.png\")\n",
    "\n",
    "df = pl.read_csv('test.csv')\n",
    "visualization(df)\n",
    "output(df)"
   ]
  }
 ],
 "metadata": {
  "kernelspec": {
   "display_name": "Python 3",
   "language": "python",
   "name": "python3"
  },
  "language_info": {
   "codemirror_mode": {
    "name": "ipython",
    "version": 3
   },
   "file_extension": ".py",
   "mimetype": "text/x-python",
   "name": "python",
   "nbconvert_exporter": "python",
   "pygments_lexer": "ipython3",
   "version": "3.10.12"
  },
  "orig_nbformat": 4
 },
 "nbformat": 4,
 "nbformat_minor": 2
}
